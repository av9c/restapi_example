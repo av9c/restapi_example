{
  "nbformat": 4,
  "nbformat_minor": 0,
  "metadata": {
    "colab": {
      "name": "main_restapi.ipynb",
      "provenance": [],
      "collapsed_sections": [],
      "authorship_tag": "ABX9TyMRDlh+cpyKFnq1EuvMUZNb",
      "include_colab_link": true
    },
    "kernelspec": {
      "name": "python3",
      "display_name": "Python 3"
    },
    "language_info": {
      "name": "python"
    }
  },
  "cells": [
    {
      "cell_type": "markdown",
      "metadata": {
        "id": "view-in-github",
        "colab_type": "text"
      },
      "source": [
        "<a href=\"https://colab.research.google.com/github/av9c/restapi_example/blob/master/main_restapi.ipynb\" target=\"_parent\"><img src=\"https://colab.research.google.com/assets/colab-badge.svg\" alt=\"Open In Colab\"/></a>"
      ]
    },
    {
      "cell_type": "code",
      "execution_count": 6,
      "metadata": {
        "id": "YDrd59-JSye8",
        "colab": {
          "base_uri": "https://localhost:8080/"
        },
        "outputId": "dee083c3-20c9-44b6-f675-984703ebce3f"
      },
      "outputs": [
        {
          "output_type": "execute_result",
          "data": {
            "text/plain": [
              "{'bpi': {'EUR': {'code': 'EUR',\n",
              "   'description': 'Euro',\n",
              "   'rate': '22,380.5676',\n",
              "   'rate_float': 22380.5676,\n",
              "   'symbol': '&euro;'},\n",
              "  'GBP': {'code': 'GBP',\n",
              "   'description': 'British Pound Sterling',\n",
              "   'rate': '19,116.1178',\n",
              "   'rate_float': 19116.1178,\n",
              "   'symbol': '&pound;'},\n",
              "  'USD': {'code': 'USD',\n",
              "   'description': 'United States Dollar',\n",
              "   'rate': '23,544.3656',\n",
              "   'rate_float': 23544.3656,\n",
              "   'symbol': '&#36;'}},\n",
              " 'chartName': 'Bitcoin',\n",
              " 'disclaimer': 'This data was produced from the CoinDesk Bitcoin Price Index (USD). Non-USD currency data converted using hourly conversion rate from openexchangerates.org',\n",
              " 'time': {'updated': 'Jun 13, 2022 18:32:00 UTC',\n",
              "  'updatedISO': '2022-06-13T18:32:00+00:00',\n",
              "  'updateduk': 'Jun 13, 2022 at 19:32 BST'}}"
            ]
          },
          "metadata": {},
          "execution_count": 6
        }
      ],
      "source": [
        "import requests\n",
        "import json\n",
        "\n",
        "URL = \"https://api.coindesk.com/v1/bpi/currentprice.json\"\n",
        "\n",
        "response = requests.get(URL)\n",
        "#response.content\n",
        "data = json.loads(response.content.decode( \"utf-8\" ))\n",
        "\n",
        "data\n"
      ]
    },
    {
      "cell_type": "code",
      "source": [
        "bitcoin_price = data[ \"bpi\" ]#[ \"USD\" ][ \"rate_float\" ]\n",
        "bitcoin_price\n"
      ],
      "metadata": {
        "id": "KsvKVXjQV9E7",
        "outputId": "9a74dd8a-5150-45b4-a690-fa5b99dc1be2",
        "colab": {
          "base_uri": "https://localhost:8080/"
        }
      },
      "execution_count": 8,
      "outputs": [
        {
          "output_type": "execute_result",
          "data": {
            "text/plain": [
              "{'EUR': {'code': 'EUR',\n",
              "  'description': 'Euro',\n",
              "  'rate': '22,380.5676',\n",
              "  'rate_float': 22380.5676,\n",
              "  'symbol': '&euro;'},\n",
              " 'GBP': {'code': 'GBP',\n",
              "  'description': 'British Pound Sterling',\n",
              "  'rate': '19,116.1178',\n",
              "  'rate_float': 19116.1178,\n",
              "  'symbol': '&pound;'},\n",
              " 'USD': {'code': 'USD',\n",
              "  'description': 'United States Dollar',\n",
              "  'rate': '23,544.3656',\n",
              "  'rate_float': 23544.3656,\n",
              "  'symbol': '&#36;'}}"
            ]
          },
          "metadata": {},
          "execution_count": 8
        }
      ]
    }
  ]
}